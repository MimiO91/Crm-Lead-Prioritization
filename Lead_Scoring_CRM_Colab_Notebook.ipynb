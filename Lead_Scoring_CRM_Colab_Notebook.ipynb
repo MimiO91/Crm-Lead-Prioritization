{
 "cells": [
  {
   "cell_type": "markdown",
   "id": "99571f8a",
   "metadata": {},
   "source": [
    "# 📊 Lead Scoring CRM Dashboard\n",
    "\n",
    "This notebook simulates how a CRM analyst or account manager can use Python and pandas to prioritize high-value leads using custom scoring logic.\n",
    "\n",
    "We will:\n",
    "- Load CRM-style lead data\n",
    "- Calculate a custom Priority Score\n",
    "- Visualize top leads and key trends\n",
    "- Provide business insights per section\n"
   ]
  },
  {
   "cell_type": "markdown",
   "id": "4b833b59",
   "metadata": {},
   "source": [
    "## 📥 Step 1: Load the Dataset"
   ]
  },
  {
   "cell_type": "code",
   "execution_count": null,
   "id": "a07447ed",
   "metadata": {},
   "outputs": [],
   "source": [
    "import pandas as pd\n",
    "\n",
    "df = pd.read_csv('/content/leads_dataset.csv')\n",
    "df.head()"
   ]
  },
  {
   "cell_type": "markdown",
   "id": "290abec3",
   "metadata": {},
   "source": [
    "## 🧮 Step 2: Define Scoring Logic\n",
    "We will combine engagement, deal size, recent activity, and lifecycle stage into one `Priority_Score`."
   ]
  },
  {
   "cell_type": "code",
   "execution_count": null,
   "id": "418b75c4",
   "metadata": {},
   "outputs": [],
   "source": [
    "# Lifecycle weights\n",
    "lifecycle_weights = {'SQL': 100, 'MQL': 70, 'New': 50, 'Customer': 30, 'Lost': 10}\n",
    "df['Lifecycle_Weight'] = df['Lifecycle_Stage'].map(lifecycle_weights)\n",
    "\n",
    "# Normalize deal size\n",
    "df['Deal_Size_Score'] = (df['Deal_Size (€)'] - df['Deal_Size (€)'].min()) / (df['Deal_Size (€)'].max() - df['Deal_Size (€)'].min()) * 100\n",
    "\n",
    "# Invert recency\n",
    "df['Recency_Score'] = (1 - df['Last_Activity (days ago)'] / df['Last_Activity (days ago)'].max()) * 100\n",
    "\n",
    "# Weighted Priority Score\n",
    "df['Priority_Score'] = (\n",
    "    df['Engagement_Score'] * 0.4 +\n",
    "    df['Recency_Score'] * 0.3 +\n",
    "    df['Deal_Size_Score'] * 0.2 +\n",
    "    df['Lifecycle_Weight'] * 0.1\n",
    ")\n",
    "\n",
    "df[['Lead_ID', 'Priority_Score']].head()"
   ]
  },
  {
   "cell_type": "markdown",
   "id": "e4070b1b",
   "metadata": {},
   "source": [
    "## ⭐ Step 3: Top 10 Priority Leads"
   ]
  },
  {
   "cell_type": "code",
   "execution_count": null,
   "id": "3bf0613e",
   "metadata": {},
   "outputs": [],
   "source": [
    "df_top = df.sort_values(by='Priority_Score', ascending=False).head(10)\n",
    "df_top"
   ]
  },
  {
   "cell_type": "markdown",
   "id": "047bf2a4",
   "metadata": {},
   "source": [
    "## 📊 Step 4: Visual Insights"
   ]
  },
  {
   "cell_type": "code",
   "execution_count": null,
   "id": "d4887eac",
   "metadata": {},
   "outputs": [],
   "source": [
    "import matplotlib.pyplot as plt\n",
    "import seaborn as sns\n",
    "\n",
    "sns.set(style='whitegrid')\n",
    "\n",
    "# Priority Score by Region\n",
    "plt.figure(figsize=(10, 6))\n",
    "region_scores = df.groupby('Region')['Priority_Score'].mean().sort_values(ascending=False)\n",
    "sns.barplot(x=region_scores.values, y=region_scores.index, palette='Blues_d')\n",
    "plt.title('Average Priority Score by Region')\n",
    "plt.xlabel('Avg Score')\n",
    "plt.ylabel('Region')\n",
    "plt.tight_layout()\n",
    "plt.show()"
   ]
  },
  {
   "cell_type": "code",
   "execution_count": null,
   "id": "a3664f74",
   "metadata": {},
   "outputs": [],
   "source": [
    "# Engagement vs Deal Size by Lifecycle\n",
    "plt.figure(figsize=(10, 6))\n",
    "sns.scatterplot(\n",
    "    data=df,\n",
    "    x='Deal_Size (€)',\n",
    "    y='Engagement_Score',\n",
    "    hue='Lifecycle_Stage',\n",
    "    palette='Set2',\n",
    "    edgecolor='k', alpha=0.8\n",
    ")\n",
    "plt.title('Engagement vs Deal Size by Lifecycle Stage')\n",
    "plt.xlabel('Deal Size (€)')\n",
    "plt.ylabel('Engagement Score')\n",
    "plt.legend(bbox_to_anchor=(1.05, 1), loc=2)\n",
    "plt.tight_layout()\n",
    "plt.show()"
   ]
  },
  {
   "cell_type": "code",
   "execution_count": null,
   "id": "ce069a6a",
   "metadata": {},
   "outputs": [],
   "source": [
    "# Priority Score by Lifecycle Stage\n",
    "plt.figure(figsize=(8, 5))\n",
    "lifecycle_avg = df.groupby('Lifecycle_Stage')['Priority_Score'].mean().sort_values(ascending=False)\n",
    "sns.barplot(x=lifecycle_avg.index, y=lifecycle_avg.values, palette='pastel')\n",
    "plt.title('Avg Priority Score by Lifecycle Stage')\n",
    "plt.xlabel('Lifecycle Stage')\n",
    "plt.ylabel('Avg Score')\n",
    "plt.tight_layout()\n",
    "plt.show()"
   ]
  },
  {
   "cell_type": "markdown",
   "id": "118aa218",
   "metadata": {},
   "source": [
    "## 🧠 Step 5: Business Insights\n",
    "- **Regions** like Île-de-France and PACA may have more engaged, high-value leads.\n",
    "- **SQLs** have the highest scores, as expected — but some MQLs are high potential.\n",
    "- Use this scoring to prioritize follow-up and decide who should be contacted next."
   ]
  }
 ],
 "metadata": {},
 "nbformat": 4,
 "nbformat_minor": 5
}